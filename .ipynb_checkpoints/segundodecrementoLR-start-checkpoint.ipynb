{
 "cells": [
  {
   "cell_type": "code",
   "execution_count": 1,
   "metadata": {},
   "outputs": [
    {
     "name": "stderr",
     "output_type": "stream",
     "text": [
      "Using TensorFlow backend.\n"
     ]
    }
   ],
   "source": [
    "import numpy as np\n",
    "import pandas as pd\n",
    "import tensorflow as tf\n",
    "from tensorflow.keras import layers\n",
    "import keras.backend as K"
   ]
  },
  {
   "cell_type": "code",
   "execution_count": 2,
   "metadata": {},
   "outputs": [
    {
     "name": "stdout",
     "output_type": "stream",
     "text": [
      "F:\\Dev\\ModelBackup12\\weights00000736.h5\n",
      "F:\\Dev\\ModelBackup12\\weights{epoch:08d}.h5\n",
      "Found 690839 images belonging to 10575 classes.\n",
      "Found 148038 images belonging to 10575 classes.\n"
     ]
    }
   ],
   "source": [
    "batchSize = 400\n",
    "idTraining = 11\n",
    "lastEpoch=736\n",
    "weightsPath = 'F:\\Dev\\ModelBackup'+str(idTraining+1)+'\\weights00000'+str(lastEpoch)+'.h5'\n",
    "saveWeightsPath = 'F:\\Dev\\ModelBackup'+ str(idTraining + 1) +'\\weights{epoch:08d}.h5'\n",
    "\n",
    "print (weightsPath)\n",
    "print (saveWeightsPath)\n",
    "datagen = tf.keras.preprocessing.image.ImageDataGenerator()\n",
    "# load and iterate training dataset\n",
    "train_it = datagen.flow_from_directory('F:\\Dev\\Thesis\\dist5\\TrainStructure', class_mode='categorical', batch_size=batchSize,target_size=(100, 100),color_mode='grayscale')\n",
    "# load and iterate validation dataset\n",
    "val_it = datagen.flow_from_directory('F:\\Dev\\Thesis\\dist5\\ValStructure', class_mode='categorical', batch_size=batchSize,target_size=(100, 100),color_mode='grayscale')\n",
    "# load and iterate test dataset\n",
    "#test_it = datagen.flow_from_directory('data/test/', class_mode='binary', batch_size=64)\n"
   ]
  },
  {
   "cell_type": "code",
   "execution_count": 3,
   "metadata": {},
   "outputs": [
    {
     "name": "stdout",
     "output_type": "stream",
     "text": [
      "0.001\n",
      "<tf.Variable 'learning_rate:0' shape=() dtype=float32, numpy=0.001>\n",
      "after\n",
      "1e-05\n",
      "<tf.Variable 'learning_rate:0' shape=() dtype=float32, numpy=1e-05>\n",
      "Model: \"sequential\"\n",
      "_________________________________________________________________\n",
      "Layer (type)                 Output Shape              Param #   \n",
      "=================================================================\n",
      "conv2d (Conv2D)              (None, 100, 100, 32)      320       \n",
      "_________________________________________________________________\n",
      "conv2d_1 (Conv2D)            (None, 100, 100, 64)      18496     \n",
      "_________________________________________________________________\n",
      "max_pooling2d (MaxPooling2D) (None, 50, 50, 64)        0         \n",
      "_________________________________________________________________\n",
      "conv2d_2 (Conv2D)            (None, 50, 50, 64)        36928     \n",
      "_________________________________________________________________\n",
      "conv2d_3 (Conv2D)            (None, 50, 50, 128)       73856     \n",
      "_________________________________________________________________\n",
      "max_pooling2d_1 (MaxPooling2 (None, 25, 25, 128)       0         \n",
      "_________________________________________________________________\n",
      "conv2d_4 (Conv2D)            (None, 25, 25, 96)        110688    \n",
      "_________________________________________________________________\n",
      "conv2d_5 (Conv2D)            (None, 25, 25, 192)       166080    \n",
      "_________________________________________________________________\n",
      "max_pooling2d_2 (MaxPooling2 (None, 13, 13, 192)       0         \n",
      "_________________________________________________________________\n",
      "conv2d_6 (Conv2D)            (None, 13, 13, 128)       221312    \n",
      "_________________________________________________________________\n",
      "conv2d_7 (Conv2D)            (None, 13, 13, 256)       295168    \n",
      "_________________________________________________________________\n",
      "max_pooling2d_3 (MaxPooling2 (None, 7, 7, 256)         0         \n",
      "_________________________________________________________________\n",
      "conv2d_8 (Conv2D)            (None, 7, 7, 160)         368800    \n",
      "_________________________________________________________________\n",
      "conv2d_9 (Conv2D)            (None, 7, 7, 320)         461120    \n",
      "_________________________________________________________________\n",
      "average_pooling2d (AveragePo (None, 1, 1, 320)         0         \n",
      "_________________________________________________________________\n",
      "dropout (Dropout)            (None, 1, 1, 320)         0         \n",
      "_________________________________________________________________\n",
      "dense (Dense)                (None, 1, 1, 10575)       3394575   \n",
      "_________________________________________________________________\n",
      "flatten (Flatten)            (None, 10575)             0         \n",
      "=================================================================\n",
      "Total params: 5,147,343\n",
      "Trainable params: 5,147,343\n",
      "Non-trainable params: 0\n",
      "_________________________________________________________________\n",
      "690839\n"
     ]
    }
   ],
   "source": [
    "\n",
    "# define model\n",
    "model = tf.keras.Sequential()\n",
    "# fit model\n",
    "\n",
    "model.add(layers.Conv2D(32, kernel_size=(3, 3), strides=(1, 1), padding='same',\n",
    "                 activation='relu',\n",
    "                 input_shape=(100,100,1)))\n",
    "model.add(layers.Conv2D(64, (3, 3), activation='relu', padding='same'))\n",
    "model.add(layers.MaxPooling2D(pool_size=(2, 2), strides=(2, 2)))\n",
    "\n",
    "#Conv 2\n",
    "model.add(layers.Conv2D(64, (3, 3), activation='relu', padding='same'))\n",
    "model.add(layers.Conv2D(128, (3, 3), activation='relu', padding='same'))\n",
    "model.add(layers.MaxPooling2D(pool_size=(2, 2), strides=(2, 2)))\n",
    "\n",
    "\n",
    "#Conv 3\n",
    "model.add(layers.Conv2D(96, (3, 3), activation='relu', padding='same'))\n",
    "model.add(layers.Conv2D(192, (3, 3), activation='relu', padding='same'))\n",
    "model.add(layers.MaxPooling2D(pool_size=(2, 2), strides=(2, 2), padding='same'))\n",
    "\n",
    "#Conv 4\n",
    "model.add(layers.Conv2D(128, (3, 3), activation='relu', padding='same'))\n",
    "model.add(layers.Conv2D(256, (3, 3), activation='relu', padding='same'))\n",
    "model.add(layers.MaxPooling2D(pool_size=(2, 2), strides=(2, 2), padding='same'))\n",
    "\n",
    "#Conv 5 - Avg Pooling\n",
    "model.add(layers.Conv2D(160, (3, 3), activation='relu', padding='same'))\n",
    "model.add(layers.Conv2D(320, (3, 3), activation='relu', padding='same'))\n",
    "model.add(layers.AveragePooling2D(pool_size=(7, 7)))\n",
    "\n",
    "#Dropout\n",
    "model.add(layers.Dropout(0.4))\n",
    "#FC6\n",
    "\n",
    "\n",
    "model.add(layers.Dense(10575, activation='softmax'))\n",
    "\n",
    "\n",
    "\n",
    "model.add(layers.Flatten())\n",
    "\n",
    "\n",
    "# Loads the weights\n",
    "model.load_weights(weightsPath)\n",
    "\n",
    "model.compile(optimizer='adam',lr=0.00001,\n",
    "              loss=tf.keras.losses.categorical_crossentropy,\n",
    "              metrics=['accuracy'])\n",
    "\n",
    "print(K.eval(model.optimizer.lr))\n",
    "print(model.optimizer.lr)\n",
    "K.set_value(model.optimizer.learning_rate, 0.00001)\n",
    "print(\"after\")\n",
    "print(K.eval(model.optimizer.lr))\n",
    "print(model.optimizer.lr)\n",
    "\n",
    "\n",
    "\n",
    "\n",
    "model.summary()\n",
    "print(train_it.samples)\n",
    "\n",
    "#model.add(layers.Dense(10575, activation='softmax'))\n",
    "\n",
    "\n",
    "\n",
    "\n",
    "\n"
   ]
  },
  {
   "cell_type": "code",
   "execution_count": null,
   "metadata": {},
   "outputs": [
    {
     "name": "stdout",
     "output_type": "stream",
     "text": [
      "Epoch 737/1000\n",
      "  25/1727 [..............................] - ETA: 3:31:58 - loss: 0.1347 - accuracy: 0.9775"
     ]
    }
   ],
   "source": [
    "#mc = keras.callbacks.ModelCheckpoint('F:\\Dev\\ModelBackup\\weights{epoch:08d}.h5', save_weights_only=True, period=5)\n",
    "\n",
    "model_checkpoint = tf.keras.callbacks.ModelCheckpoint(\n",
    "    filepath=saveWeightsPath,\n",
    "    monitor='val_loss',\n",
    "    verbose=1,\n",
    "    save_best_only=False,\n",
    "    save_weights_only=False,\n",
    "    mode='auto',\n",
    "    save_freq='epoch'\n",
    ")\n",
    "#,callbacks=[MyCustomCallback()]\n",
    "model.fit_generator(train_it, validation_data=val_it, validation_steps=50\n",
    "                   ,steps_per_epoch=train_it.samples // batchSize\n",
    "                    ,initial_epoch=lastEpoch\n",
    "                    ,epochs=1000                   \n",
    "                    ,callbacks=[model_checkpoint]\n",
    "                   )\n",
    "\n",
    " \n",
    "# evaluate model\n",
    "#loss = model.evaluate_generator(test_it, steps=24)"
   ]
  },
  {
   "cell_type": "code",
   "execution_count": null,
   "metadata": {
    "collapsed": true
   },
   "outputs": [],
   "source": []
  },
  {
   "cell_type": "code",
   "execution_count": null,
   "metadata": {
    "collapsed": true
   },
   "outputs": [],
   "source": []
  },
  {
   "cell_type": "code",
   "execution_count": 4,
   "metadata": {},
   "outputs": [
    {
     "name": "stdout",
     "output_type": "stream",
     "text": [
      "Collecting pillow\n",
      "  Downloading https://files.pythonhosted.org/packages/88/6b/66f502b5ea615f69433ae1e23ec786b2cdadbe41a5cfb1e1fabb4f9c6ce9/Pillow-7.0.0-cp37-cp37m-win_amd64.whl (2.0MB)\n",
      "Installing collected packages: pillow\n",
      "Successfully installed pillow-7.0.0\n",
      "Note: you may need to restart the kernel to use updated packages.\n"
     ]
    }
   ],
   "source": []
  },
  {
   "cell_type": "code",
   "execution_count": 1,
   "metadata": {
    "collapsed": true
   },
   "outputs": [],
   "source": [
    "#trainData.shape"
   ]
  },
  {
   "cell_type": "code",
   "execution_count": null,
   "metadata": {
    "collapsed": true
   },
   "outputs": [],
   "source": [
    "\n",
    "# create a data generator\n",
    "#datagen = ImageDataGenerator()"
   ]
  },
  {
   "cell_type": "code",
   "execution_count": null,
   "metadata": {
    "collapsed": true
   },
   "outputs": [],
   "source": [
    "#import datetime\n",
    "\n",
    "#class MyCustomCallback(tf.keras.callbacks.Callback):\n",
    "\n",
    "#  def on_train_batch_begin(self, batch, logs=None):\n",
    "#    print('Entrenamiento: batch {} comienza en {}'.format(batch, datetime.datetime.now().time()))\n",
    "\n",
    "#  def on_train_batch_end(self, batch, logs=None):\n",
    "#    print('Entrenamiento: batch {} termina en {}'.format(batch, datetime.datetime.now().time()))\n",
    "\n",
    "#  def on_test_batch_begin(self, batch, logs=None):\n",
    "#    print('Evaluacion: batch {} comienza en {}'.format(batch, datetime.datetime.now().time()))\n",
    "\n",
    "#  def on_test_batch_end(self, batch, logs=None):\n",
    "#    print('Evaluacion: batch {} termina en {}'.format(batch, datetime.datetime.now().time()))"
   ]
  }
 ],
 "metadata": {
  "kernelspec": {
   "display_name": "gputest2",
   "language": "python",
   "name": "gputest2"
  },
  "language_info": {
   "codemirror_mode": {
    "name": "ipython",
    "version": 3
   },
   "file_extension": ".py",
   "mimetype": "text/x-python",
   "name": "python",
   "nbconvert_exporter": "python",
   "pygments_lexer": "ipython3",
   "version": "3.7.5"
  }
 },
 "nbformat": 4,
 "nbformat_minor": 2
}
