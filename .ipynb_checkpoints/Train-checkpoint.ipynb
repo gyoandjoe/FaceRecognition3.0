{
 "cells": [
  {
   "cell_type": "code",
   "execution_count": 1,
   "metadata": {},
   "outputs": [],
   "source": [
    "import numpy as np\n",
    "import pandas as pd\n",
    "import tensorflow as tf\n",
    "from tensorflow.keras import layers\n",
    "#from keras.preprocessing.image import ImageDataGenerator  "
   ]
  },
  {
   "cell_type": "code",
   "execution_count": 2,
   "metadata": {},
   "outputs": [
    {
     "name": "stdout",
     "output_type": "stream",
     "text": [
      "F:\\Dev\\ModelBackup10\\weights00000007.h5\n",
      "F:\\Dev\\ModelBackup11\\weights{epoch:08d}.h5\n",
      "Found 690839 images belonging to 10575 classes.\n",
      "Found 148038 images belonging to 10575 classes.\n"
     ]
    }
   ],
   "source": [
    "batchSize = 400\n",
    "idTraining = 10\n",
    "lastEpoch=6\n",
    "weightsPath = 'F:\\Dev\\ModelBackup'+str(idTraining+1)+'\\weights0000000'+str(lastEpoch)+'.h5'\n",
    "saveWeightsPath = 'F:\\Dev\\ModelBackup'+ str(idTraining + 1) +'\\weights{epoch:08d}.h5'\n",
    "\n",
    "print (weightsPath)\n",
    "print (saveWeightsPath)\n",
    "datagen = tf.keras.preprocessing.image.ImageDataGenerator()\n",
    "# load and iterate training dataset\n",
    "train_it = datagen.flow_from_directory('F:\\Dev\\Thesis\\dist5\\TrainStructure', class_mode='categorical', batch_size=batchSize,target_size=(100, 100),color_mode='grayscale')\n",
    "# load and iterate validation dataset\n",
    "val_it = datagen.flow_from_directory('F:\\Dev\\Thesis\\dist5\\ValStructure', class_mode='categorical', batch_size=batchSize,target_size=(100, 100),color_mode='grayscale')\n",
    "# load and iterate test dataset\n",
    "#test_it = datagen.flow_from_directory('data/test/', class_mode='binary', batch_size=64)\n"
   ]
  },
  {
   "cell_type": "code",
   "execution_count": 7,
   "metadata": {},
   "outputs": [],
   "source": []
  },
  {
   "cell_type": "code",
   "execution_count": null,
   "metadata": {},
   "outputs": [],
   "source": []
  },
  {
   "cell_type": "code",
   "execution_count": null,
   "metadata": {},
   "outputs": [],
   "source": []
  },
  {
   "cell_type": "code",
   "execution_count": 3,
   "metadata": {},
   "outputs": [
    {
     "name": "stdout",
     "output_type": "stream",
     "text": [
      "Model: \"sequential\"\n",
      "_________________________________________________________________\n",
      "Layer (type)                 Output Shape              Param #   \n",
      "=================================================================\n",
      "conv2d (Conv2D)              (None, 100, 100, 32)      320       \n",
      "_________________________________________________________________\n",
      "conv2d_1 (Conv2D)            (None, 100, 100, 64)      18496     \n",
      "_________________________________________________________________\n",
      "max_pooling2d (MaxPooling2D) (None, 50, 50, 64)        0         \n",
      "_________________________________________________________________\n",
      "conv2d_2 (Conv2D)            (None, 50, 50, 64)        36928     \n",
      "_________________________________________________________________\n",
      "conv2d_3 (Conv2D)            (None, 50, 50, 128)       73856     \n",
      "_________________________________________________________________\n",
      "max_pooling2d_1 (MaxPooling2 (None, 25, 25, 128)       0         \n",
      "_________________________________________________________________\n",
      "conv2d_4 (Conv2D)            (None, 25, 25, 96)        110688    \n",
      "_________________________________________________________________\n",
      "conv2d_5 (Conv2D)            (None, 25, 25, 192)       166080    \n",
      "_________________________________________________________________\n",
      "max_pooling2d_2 (MaxPooling2 (None, 13, 13, 192)       0         \n",
      "_________________________________________________________________\n",
      "conv2d_6 (Conv2D)            (None, 13, 13, 128)       221312    \n",
      "_________________________________________________________________\n",
      "conv2d_7 (Conv2D)            (None, 13, 13, 256)       295168    \n",
      "_________________________________________________________________\n",
      "max_pooling2d_3 (MaxPooling2 (None, 7, 7, 256)         0         \n",
      "_________________________________________________________________\n",
      "conv2d_8 (Conv2D)            (None, 7, 7, 160)         368800    \n",
      "_________________________________________________________________\n",
      "conv2d_9 (Conv2D)            (None, 7, 7, 320)         461120    \n",
      "_________________________________________________________________\n",
      "average_pooling2d (AveragePo (None, 1, 1, 320)         0         \n",
      "_________________________________________________________________\n",
      "dropout (Dropout)            (None, 1, 1, 320)         0         \n",
      "_________________________________________________________________\n",
      "dense (Dense)                (None, 1, 1, 10575)       3394575   \n",
      "_________________________________________________________________\n",
      "flatten (Flatten)            (None, 10575)             0         \n",
      "=================================================================\n",
      "Total params: 5,147,343\n",
      "Trainable params: 5,147,343\n",
      "Non-trainable params: 0\n",
      "_________________________________________________________________\n",
      "690839\n"
     ]
    }
   ],
   "source": [
    "# define model\n",
    "model = tf.keras.Sequential()\n",
    "# fit model\n",
    "\n",
    "model.add(layers.Conv2D(32, kernel_size=(3, 3), strides=(1, 1), padding='same',\n",
    "                 activation='relu',\n",
    "                 input_shape=(100,100,1)))\n",
    "model.add(layers.Conv2D(64, (3, 3), activation='relu', padding='same'))\n",
    "model.add(layers.MaxPooling2D(pool_size=(2, 2), strides=(2, 2)))\n",
    "\n",
    "#Conv 2\n",
    "model.add(layers.Conv2D(64, (3, 3), activation='relu', padding='same'))\n",
    "model.add(layers.Conv2D(128, (3, 3), activation='relu', padding='same'))\n",
    "model.add(layers.MaxPooling2D(pool_size=(2, 2), strides=(2, 2)))\n",
    "\n",
    "\n",
    "#Conv 3\n",
    "model.add(layers.Conv2D(96, (3, 3), activation='relu', padding='same'))\n",
    "model.add(layers.Conv2D(192, (3, 3), activation='relu', padding='same'))\n",
    "model.add(layers.MaxPooling2D(pool_size=(2, 2), strides=(2, 2), padding='same'))\n",
    "\n",
    "#Conv 4\n",
    "model.add(layers.Conv2D(128, (3, 3), activation='relu', padding='same'))\n",
    "model.add(layers.Conv2D(256, (3, 3), activation='relu', padding='same'))\n",
    "model.add(layers.MaxPooling2D(pool_size=(2, 2), strides=(2, 2), padding='same'))\n",
    "\n",
    "#Conv 5 - Avg Pooling\n",
    "model.add(layers.Conv2D(160, (3, 3), activation='relu', padding='same'))\n",
    "model.add(layers.Conv2D(320, (3, 3), activation='relu', padding='same'))\n",
    "model.add(layers.AveragePooling2D(pool_size=(7, 7)))\n",
    "\n",
    "#Dropout\n",
    "model.add(layers.Dropout(0.4))\n",
    "#FC6\n",
    "\n",
    "\n",
    "model.add(layers.Dense(10575, activation='softmax'))\n",
    "\n",
    "model.add(layers.Flatten())\n",
    "\n",
    "model.compile(optimizer='adam',\n",
    "              loss=tf.keras.losses.categorical_crossentropy,\n",
    "              metrics=['accuracy'])\n",
    "\n",
    "\n",
    "#model.compile(optimizer='adam',\n",
    "#              loss=tf.keras.losses.SparseCategoricalCrossentropy(from_logits=False),\n",
    "#              metrics=['accuracy'])\n",
    "\n",
    "\n",
    "\n",
    "model.summary()\n",
    "print(train_it.samples)\n",
    "\n",
    "# Loads the weights\n",
    "model.load_weights(weightsPath)\n",
    "\n",
    "# Re-evaluate the model\n",
    "#loss,acc = model.evaluate(test_images,  test_labels, verbose=2)\n",
    "#print(\"Restored model, accuracy: {:5.2f}%\".format(100*acc))\n",
    "\n",
    "\n",
    "\n",
    "\n"
   ]
  },
  {
   "cell_type": "code",
   "execution_count": null,
   "metadata": {},
   "outputs": [
    {
     "name": "stdout",
     "output_type": "stream",
     "text": [
      "Epoch 1/100\n",
      "1726/1727 [============================>.] - ETA: 5s - loss: 0.9254 - accuracy: 0.7957 \n",
      "Epoch 00001: saving model to F:\\Dev\\ModelBackup11\\weights00000001.h5\n",
      "1727/1727 [==============================] - 9383s 5s/step - loss: 0.9254 - accuracy: 0.7957 - val_loss: 1.5438 - val_accuracy: 0.7556\n",
      "Epoch 2/100\n",
      "1726/1727 [============================>.] - ETA: 4s - loss: 0.9161 - accuracy: 0.7977\n",
      "Epoch 00002: saving model to F:\\Dev\\ModelBackup11\\weights00000002.h5\n",
      "1727/1727 [==============================] - 7908s 5s/step - loss: 0.9161 - accuracy: 0.7977 - val_loss: 1.5833 - val_accuracy: 0.7465\n",
      "Epoch 3/100\n",
      "1726/1727 [============================>.] - ETA: 4s - loss: 0.9032 - accuracy: 0.7997\n",
      "Epoch 00003: saving model to F:\\Dev\\ModelBackup11\\weights00000003.h5\n",
      "1727/1727 [==============================] - 8178s 5s/step - loss: 0.9032 - accuracy: 0.7997 - val_loss: 1.5750 - val_accuracy: 0.7478\n",
      "Epoch 4/100\n",
      "1726/1727 [============================>.] - ETA: 4s - loss: 0.8990 - accuracy: 0.8010\n",
      "Epoch 00004: saving model to F:\\Dev\\ModelBackup11\\weights00000004.h5\n",
      "1727/1727 [==============================] - 7359s 4s/step - loss: 0.8991 - accuracy: 0.8010 - val_loss: 1.6083 - val_accuracy: 0.7440\n",
      "Epoch 5/100\n",
      "1726/1727 [============================>.] - ETA: 3s - loss: 0.8924 - accuracy: 0.8012\n",
      "Epoch 00005: saving model to F:\\Dev\\ModelBackup11\\weights00000005.h5\n",
      "1727/1727 [==============================] - 7306s 4s/step - loss: 0.8925 - accuracy: 0.8012 - val_loss: 1.5891 - val_accuracy: 0.7505\n",
      "Epoch 6/100\n",
      " 909/1727 [==============>...............] - ETA: 1:13:52 - loss: 0.8619 - accuracy: 0.8074"
     ]
    }
   ],
   "source": [
    "#mc = keras.callbacks.ModelCheckpoint('F:\\Dev\\ModelBackup\\weights{epoch:08d}.h5', save_weights_only=True, period=5)\n",
    "\n",
    "model_checkpoint = tf.keras.callbacks.ModelCheckpoint(\n",
    "    filepath=saveWeightsPath,\n",
    "    monitor='val_loss',\n",
    "    verbose=1,\n",
    "    save_best_only=False,\n",
    "    save_weights_only=False,\n",
    "    mode='auto',\n",
    "    save_freq='epoch'\n",
    ")\n",
    "#,callbacks=[MyCustomCallback()]\n",
    "model.fit_generator(train_it, validation_data=val_it, validation_steps=50\n",
    "                   ,steps_per_epoch=train_it.samples // batchSize\n",
    "                    ,initial_epoch=lastEpoch\n",
    "                    ,epochs=100                   \n",
    "                    ,callbacks=[model_checkpoint]\n",
    "                   )\n",
    "\n",
    " \n",
    "# evaluate model\n",
    "#loss = model.evaluate_generator(test_it, steps=24)"
   ]
  },
  {
   "cell_type": "code",
   "execution_count": 4,
   "metadata": {},
   "outputs": [
    {
     "name": "stdout",
     "output_type": "stream",
     "text": [
      "Collecting pillow\n",
      "  Downloading https://files.pythonhosted.org/packages/88/6b/66f502b5ea615f69433ae1e23ec786b2cdadbe41a5cfb1e1fabb4f9c6ce9/Pillow-7.0.0-cp37-cp37m-win_amd64.whl (2.0MB)\n",
      "Installing collected packages: pillow\n",
      "Successfully installed pillow-7.0.0\n",
      "Note: you may need to restart the kernel to use updated packages.\n"
     ]
    }
   ],
   "source": []
  },
  {
   "cell_type": "code",
   "execution_count": null,
   "metadata": {},
   "outputs": [],
   "source": [
    "trainData.shape"
   ]
  },
  {
   "cell_type": "code",
   "execution_count": null,
   "metadata": {},
   "outputs": [],
   "source": [
    "\n",
    "# create a data generator\n",
    "datagen = ImageDataGenerator()"
   ]
  },
  {
   "cell_type": "code",
   "execution_count": null,
   "metadata": {},
   "outputs": [],
   "source": [
    "import datetime\n",
    "\n",
    "class MyCustomCallback(tf.keras.callbacks.Callback):\n",
    "\n",
    "  def on_train_batch_begin(self, batch, logs=None):\n",
    "    print('Entrenamiento: batch {} comienza en {}'.format(batch, datetime.datetime.now().time()))\n",
    "\n",
    "  def on_train_batch_end(self, batch, logs=None):\n",
    "    print('Entrenamiento: batch {} termina en {}'.format(batch, datetime.datetime.now().time()))\n",
    "\n",
    "  def on_test_batch_begin(self, batch, logs=None):\n",
    "    print('Evaluacion: batch {} comienza en {}'.format(batch, datetime.datetime.now().time()))\n",
    "\n",
    "  def on_test_batch_end(self, batch, logs=None):\n",
    "    print('Evaluacion: batch {} termina en {}'.format(batch, datetime.datetime.now().time()))"
   ]
  }
 ],
 "metadata": {
  "kernelspec": {
   "display_name": "gputest2",
   "language": "python",
   "name": "gputest2"
  },
  "language_info": {
   "codemirror_mode": {
    "name": "ipython",
    "version": 3
   },
   "file_extension": ".py",
   "mimetype": "text/x-python",
   "name": "python",
   "nbconvert_exporter": "python",
   "pygments_lexer": "ipython3",
   "version": "3.7.5"
  }
 },
 "nbformat": 4,
 "nbformat_minor": 2
}
