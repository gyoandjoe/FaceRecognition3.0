{
 "cells": [
  {
   "cell_type": "code",
   "execution_count": 1,
   "metadata": {},
   "outputs": [],
   "source": [
    "import numpy as np\n",
    "import pandas as pd\n",
    "import os"
   ]
  },
  {
   "cell_type": "code",
   "execution_count": 2,
   "metadata": {},
   "outputs": [],
   "source": [
    "trainDataSet = np.loadtxt( r'F:\\Dev\\Thesis\\dist5\\trainSet_rand.csv',delimiter=',', dtype='str',skiprows =1)\n",
    "trainDS= pd.read_csv(r'F:\\Dev\\Thesis\\dist5\\trainSet_rand.csv',dtype=str) "
   ]
  },
  {
   "cell_type": "code",
   "execution_count": 3,
   "metadata": {},
   "outputs": [
    {
     "data": {
      "text/html": [
       "<div>\n",
       "<style scoped>\n",
       "    .dataframe tbody tr th:only-of-type {\n",
       "        vertical-align: middle;\n",
       "    }\n",
       "\n",
       "    .dataframe tbody tr th {\n",
       "        vertical-align: top;\n",
       "    }\n",
       "\n",
       "    .dataframe thead th {\n",
       "        text-align: right;\n",
       "    }\n",
       "</style>\n",
       "<table border=\"1\" class=\"dataframe\">\n",
       "  <thead>\n",
       "    <tr style=\"text-align: right;\">\n",
       "      <th></th>\n",
       "      <th>clase</th>\n",
       "      <th>path</th>\n",
       "      <th>img</th>\n",
       "    </tr>\n",
       "  </thead>\n",
       "  <tbody>\n",
       "    <tr>\n",
       "      <th>0</th>\n",
       "      <td>1014</td>\n",
       "      <td>0005045</td>\n",
       "      <td>256-l.jpg</td>\n",
       "    </tr>\n",
       "    <tr>\n",
       "      <th>1</th>\n",
       "      <td>9656</td>\n",
       "      <td>3333669</td>\n",
       "      <td>008-r.jpg</td>\n",
       "    </tr>\n",
       "    <tr>\n",
       "      <th>2</th>\n",
       "      <td>1975</td>\n",
       "      <td>0174374</td>\n",
       "      <td>025-r.jpg</td>\n",
       "    </tr>\n",
       "    <tr>\n",
       "      <th>3</th>\n",
       "      <td>8618</td>\n",
       "      <td>2526306</td>\n",
       "      <td>018-r.jpg</td>\n",
       "    </tr>\n",
       "    <tr>\n",
       "      <th>4</th>\n",
       "      <td>1292</td>\n",
       "      <td>0006713</td>\n",
       "      <td>058-r.jpg</td>\n",
       "    </tr>\n",
       "    <tr>\n",
       "      <th>...</th>\n",
       "      <td>...</td>\n",
       "      <td>...</td>\n",
       "      <td>...</td>\n",
       "    </tr>\n",
       "    <tr>\n",
       "      <th>690836</th>\n",
       "      <td>6123</td>\n",
       "      <td>1326778</td>\n",
       "      <td>007-r.jpg</td>\n",
       "    </tr>\n",
       "    <tr>\n",
       "      <th>690837</th>\n",
       "      <td>8618</td>\n",
       "      <td>2526306</td>\n",
       "      <td>009-r.jpg</td>\n",
       "    </tr>\n",
       "    <tr>\n",
       "      <th>690838</th>\n",
       "      <td>5544</td>\n",
       "      <td>1101381</td>\n",
       "      <td>006-r.jpg</td>\n",
       "    </tr>\n",
       "    <tr>\n",
       "      <th>690839</th>\n",
       "      <td>5960</td>\n",
       "      <td>1258970</td>\n",
       "      <td>179-r.jpg</td>\n",
       "    </tr>\n",
       "    <tr>\n",
       "      <th>690840</th>\n",
       "      <td>9476</td>\n",
       "      <td>3132111</td>\n",
       "      <td>016-l.jpg</td>\n",
       "    </tr>\n",
       "  </tbody>\n",
       "</table>\n",
       "<p>690841 rows × 3 columns</p>\n",
       "</div>"
      ],
      "text/plain": [
       "       clase     path        img\n",
       "0       1014  0005045  256-l.jpg\n",
       "1       9656  3333669  008-r.jpg\n",
       "2       1975  0174374  025-r.jpg\n",
       "3       8618  2526306  018-r.jpg\n",
       "4       1292  0006713  058-r.jpg\n",
       "...      ...      ...        ...\n",
       "690836  6123  1326778  007-r.jpg\n",
       "690837  8618  2526306  009-r.jpg\n",
       "690838  5544  1101381  006-r.jpg\n",
       "690839  5960  1258970  179-r.jpg\n",
       "690840  9476  3132111  016-l.jpg\n",
       "\n",
       "[690841 rows x 3 columns]"
      ]
     },
     "execution_count": 3,
     "metadata": {},
     "output_type": "execute_result"
    }
   ],
   "source": [
    "trainDS"
   ]
  },
  {
   "cell_type": "code",
   "execution_count": 5,
   "metadata": {},
   "outputs": [],
   "source": [
    "groupedByClass = trainDS.groupby(['clase'])\n",
    "\n",
    "\n",
    "cont=0\n",
    "for a in groupedByClass:\n",
    "        (key,vTrain) = a\n",
    "        pathCandidate= 'F:\\Dev\\Thesis\\dist5\\TrainStructure\\\\'+str(key);\n",
    "        if os.path.exists(pathCandidate) == False:\n",
    "            os.mkdir(pathCandidate)\n",
    "        #gfull = gdataSetBatchListFull.get_group(key)\n",
    "        #sgVal='0'\n",
    "        #if key in gdataSetBatchListFull.groups:\n",
    "        #    gVal = gdataSetBatchListFull.get_group(key)\n",
    "\n",
    "            #if ((gVal.count()[1]) < 10):\n",
    "            #    #classesToDelete.append(key, ignore_index=True)\n",
    "            #    classesToDelete.loc[cont] = key\n",
    "            #    cont=cont+1\n",
    "            #    print (key)\n",
    "            #    print(gVal.count()[1])            "
   ]
  },
  {
   "cell_type": "code",
   "execution_count": 4,
   "metadata": {},
   "outputs": [],
   "source": [
    "for index,r in trainDS.iterrows():    \n",
    "    #print(r['path'])\n",
    "    filePathCandidate = 'F:\\Dev\\Thesis\\dist5\\TrainStructure\\\\'+str(r['clase'])+'\\\\'+str(r['img'])\n",
    "    if os.path.isfile(filePathCandidate)==False:      \n",
    "        command = 'copy E:\\Dev\\Thesis\\casia\\webface\\\\100\\\\'+str(r['path']) +'\\\\'+str(r['img']) +' '+filePathCandidate\n",
    "        #print(command)\n",
    "        os.popen(command)"
   ]
  },
  {
   "cell_type": "code",
   "execution_count": null,
   "metadata": {},
   "outputs": [],
   "source": []
  },
  {
   "cell_type": "code",
   "execution_count": null,
   "metadata": {},
   "outputs": [],
   "source": []
  }
 ],
 "metadata": {
  "kernelspec": {
   "display_name": "gputest2",
   "language": "python",
   "name": "gputest2"
  },
  "language_info": {
   "codemirror_mode": {
    "name": "ipython",
    "version": 3
   },
   "file_extension": ".py",
   "mimetype": "text/x-python",
   "name": "python",
   "nbconvert_exporter": "python",
   "pygments_lexer": "ipython3",
   "version": "3.7.5"
  }
 },
 "nbformat": 4,
 "nbformat_minor": 2
}
