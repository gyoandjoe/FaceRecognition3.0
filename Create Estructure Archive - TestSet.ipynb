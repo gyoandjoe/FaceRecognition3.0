{
 "cells": [
  {
   "cell_type": "code",
   "execution_count": 1,
   "metadata": {},
   "outputs": [],
   "source": [
    "import numpy as np\n",
    "import pandas as pd\n",
    "import os"
   ]
  },
  {
   "cell_type": "code",
   "execution_count": 2,
   "metadata": {},
   "outputs": [],
   "source": [
    "trainDS= pd.read_csv(r'F:\\Dev\\Thesis\\dist5\\testSet_rand.csv',dtype=str) "
   ]
  },
  {
   "cell_type": "code",
   "execution_count": 3,
   "metadata": {},
   "outputs": [
    {
     "data": {
      "text/html": [
       "<div>\n",
       "<style scoped>\n",
       "    .dataframe tbody tr th:only-of-type {\n",
       "        vertical-align: middle;\n",
       "    }\n",
       "\n",
       "    .dataframe tbody tr th {\n",
       "        vertical-align: top;\n",
       "    }\n",
       "\n",
       "    .dataframe thead th {\n",
       "        text-align: right;\n",
       "    }\n",
       "</style>\n",
       "<table border=\"1\" class=\"dataframe\">\n",
       "  <thead>\n",
       "    <tr style=\"text-align: right;\">\n",
       "      <th></th>\n",
       "      <th>clase</th>\n",
       "      <th>path</th>\n",
       "      <th>img</th>\n",
       "    </tr>\n",
       "  </thead>\n",
       "  <tbody>\n",
       "    <tr>\n",
       "      <th>0</th>\n",
       "      <td>6065</td>\n",
       "      <td>1303956</td>\n",
       "      <td>032-l.jpg</td>\n",
       "    </tr>\n",
       "    <tr>\n",
       "      <th>1</th>\n",
       "      <td>7967</td>\n",
       "      <td>2172930</td>\n",
       "      <td>008-l.jpg</td>\n",
       "    </tr>\n",
       "    <tr>\n",
       "      <th>2</th>\n",
       "      <td>9770</td>\n",
       "      <td>3473527</td>\n",
       "      <td>019-r.jpg</td>\n",
       "    </tr>\n",
       "    <tr>\n",
       "      <th>3</th>\n",
       "      <td>2695</td>\n",
       "      <td>0342970</td>\n",
       "      <td>005-l.jpg</td>\n",
       "    </tr>\n",
       "    <tr>\n",
       "      <th>4</th>\n",
       "      <td>4875</td>\n",
       "      <td>0888882</td>\n",
       "      <td>070-l.jpg</td>\n",
       "    </tr>\n",
       "    <tr>\n",
       "      <th>...</th>\n",
       "      <td>...</td>\n",
       "      <td>...</td>\n",
       "      <td>...</td>\n",
       "    </tr>\n",
       "    <tr>\n",
       "      <th>148033</th>\n",
       "      <td>9655</td>\n",
       "      <td>3333557</td>\n",
       "      <td>016-r.jpg</td>\n",
       "    </tr>\n",
       "    <tr>\n",
       "      <th>148034</th>\n",
       "      <td>8188</td>\n",
       "      <td>2294895</td>\n",
       "      <td>027-l.jpg</td>\n",
       "    </tr>\n",
       "    <tr>\n",
       "      <th>148035</th>\n",
       "      <td>872</td>\n",
       "      <td>0004770</td>\n",
       "      <td>051-l.jpg</td>\n",
       "    </tr>\n",
       "    <tr>\n",
       "      <th>148036</th>\n",
       "      <td>1811</td>\n",
       "      <td>0134244</td>\n",
       "      <td>089-l.jpg</td>\n",
       "    </tr>\n",
       "    <tr>\n",
       "      <th>148037</th>\n",
       "      <td>4956</td>\n",
       "      <td>0910607</td>\n",
       "      <td>059-r.jpg</td>\n",
       "    </tr>\n",
       "  </tbody>\n",
       "</table>\n",
       "<p>148038 rows × 3 columns</p>\n",
       "</div>"
      ],
      "text/plain": [
       "       clase     path        img\n",
       "0       6065  1303956  032-l.jpg\n",
       "1       7967  2172930  008-l.jpg\n",
       "2       9770  3473527  019-r.jpg\n",
       "3       2695  0342970  005-l.jpg\n",
       "4       4875  0888882  070-l.jpg\n",
       "...      ...      ...        ...\n",
       "148033  9655  3333557  016-r.jpg\n",
       "148034  8188  2294895  027-l.jpg\n",
       "148035   872  0004770  051-l.jpg\n",
       "148036  1811  0134244  089-l.jpg\n",
       "148037  4956  0910607  059-r.jpg\n",
       "\n",
       "[148038 rows x 3 columns]"
      ]
     },
     "execution_count": 3,
     "metadata": {},
     "output_type": "execute_result"
    }
   ],
   "source": [
    "trainDS"
   ]
  },
  {
   "cell_type": "code",
   "execution_count": 4,
   "metadata": {},
   "outputs": [],
   "source": [
    "groupedByClass = trainDS.groupby(['clase'])\n",
    "\n",
    "\n",
    "cont=0\n",
    "for a in groupedByClass:\n",
    "        (key,vTrain) = a\n",
    "        pathCandidate= 'F:\\Dev\\Thesis\\dist5\\TestStructure\\\\'+str(key);\n",
    "        if os.path.exists(pathCandidate) == False:\n",
    "            os.mkdir(pathCandidate)     "
   ]
  },
  {
   "cell_type": "code",
   "execution_count": 5,
   "metadata": {},
   "outputs": [],
   "source": [
    "for index,r in trainDS.iterrows():    \n",
    "    \n",
    "    filePathCandidate = 'F:\\Dev\\Thesis\\dist5\\TestStructure\\\\'+str(r['clase'])+'\\\\'+str(r['img'])\n",
    "    if os.path.isfile(filePathCandidate)==False:      \n",
    "        command = 'copy E:\\Dev\\Thesis\\casia\\webface\\\\100\\\\'+str(r['path']) +'\\\\'+str(r['img']) +' '+filePathCandidate\n",
    "        #print(command)\n",
    "        os.popen(command)"
   ]
  },
  {
   "cell_type": "code",
   "execution_count": null,
   "metadata": {},
   "outputs": [],
   "source": []
  },
  {
   "cell_type": "code",
   "execution_count": null,
   "metadata": {},
   "outputs": [],
   "source": []
  }
 ],
 "metadata": {
  "kernelspec": {
   "display_name": "gputest2",
   "language": "python",
   "name": "gputest2"
  },
  "language_info": {
   "codemirror_mode": {
    "name": "ipython",
    "version": 3
   },
   "file_extension": ".py",
   "mimetype": "text/x-python",
   "name": "python",
   "nbconvert_exporter": "python",
   "pygments_lexer": "ipython3",
   "version": "3.7.5"
  }
 },
 "nbformat": 4,
 "nbformat_minor": 2
}
